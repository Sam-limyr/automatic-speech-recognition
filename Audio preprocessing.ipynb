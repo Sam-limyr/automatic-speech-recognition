{
 "cells": [
  {
   "cell_type": "code",
   "execution_count": 1,
   "id": "dcd44fc4-d676-4a6a-b674-09d68e501fb0",
   "metadata": {},
   "outputs": [],
   "source": [
    "import os\n",
    "import re\n",
    "import subprocess\n",
    "import num2words\n",
    "import pydub\n",
    "from pydub import AudioSegment"
   ]
  },
  {
   "cell_type": "markdown",
   "id": "6d5fc3d5-3ae2-4d19-a3eb-52a849a6a8e4",
   "metadata": {},
   "source": [
    "## Video to wav"
   ]
  },
  {
   "cell_type": "code",
   "execution_count": 47,
   "id": "6ab08ba2-2cc9-4d63-8c30-3a12a6585cbb",
   "metadata": {},
   "outputs": [],
   "source": [
    "def video_to_wav(video_file, output_dir=''):\n",
    "    \"\"\" calls ffmpeg to convert *.mp4 to *.wav if wav not exists\n",
    "    \"\"\"\n",
    "    # check if wav file exists\n",
    "    wav_file = video_file.replace('.mp4', '.wav')\n",
    "    wav_file = os.path.join(output_dir, wav_file)\n",
    "\n",
    "    if not os.path.isfile(wav_file):\n",
    "        command = f'ffmpeg -i {video_file} -ac 1 -ar 20000 -vn {wav_file} -hide_banner -loglevel error' # -ab audio bitrate -ac audio channels -ar audio sampling rate -vn disable video\n",
    "        subprocess.call(command, shell=True)\n",
    "    \n",
    "def dir_to_wav(video_dir):\n",
    "    \"\"\" convert *.mp4 in directory to *.wav\n",
    "    \"\"\"\n",
    "    for file in os.listdir(video_dir):\n",
    "        if file.endswith('.mp4'):\n",
    "            video_to_wav(file)\n",
    "            \n",
    "video_dir = '.'\n",
    "dir_to_wav(video_dir)"
   ]
  },
  {
   "cell_type": "markdown",
   "id": "f8512574-b82a-4af4-a49d-13e781a16298",
   "metadata": {},
   "source": [
    "## SRT"
   ]
  },
  {
   "cell_type": "code",
   "execution_count": 35,
   "id": "8076a9c9-4e8f-4378-ab90-8546f9b02b23",
   "metadata": {},
   "outputs": [],
   "source": [
    "def clean_text(text):\n",
    "    text = text.lower().strip('\\n')\n",
    "    text = re.sub(r'[^\\w\\s]', ' ', text)\n",
    "    text = ' '.join([num2words.num2words(i, to='year') if (i.isdigit() & (len(i) == 4)) else i for i in text.split()]) # year to words\n",
    "    text = ' '.join([num2words.num2words(i) if i.isdigit() else i for i in text.split()]) # num to words\n",
    "    text = re.sub(' +', ' ', text) # remove redundant spaces\n",
    "    text = text.replace('-', ' ')\n",
    "    return text\n",
    "\n",
    "def to_ms(string):\n",
    "    string = string.replace(',','')\n",
    "    hour, minute, second = string.split(':')\n",
    "    second = int(second)\n",
    "    second += int(hour) * 3600 * 1000\n",
    "    second += int(minute) * 60 * 1000\n",
    "    second = second\n",
    "    # print(hour, minute, second)\n",
    "    return second"
   ]
  },
  {
   "cell_type": "code",
   "execution_count": null,
   "id": "5d450f68-231a-4bd7-bb58-f4486455c796",
   "metadata": {},
   "outputs": [],
   "source": [
    "def srt_to_txt(srt_file, srt_dir=''):\n",
    "    filepath = os.path.join(srt_dir, srt_file)\n",
    "    file = open(filepath, 'r')\n",
    "    lines = file.readlines()\n",
    "    file.close()\n",
    "    \n",
    "    transcript = []\n",
    "    time_slices = []\n",
    "\n",
    "    for i in range(len(lines)):\n",
    "        number = re.search('^[\\d]+$', lines[i].strip('\\ufeff'))\n",
    "        if number:\n",
    "            number = number[0]\n",
    "            time = re.findall('[0-9]{2}:[0-9]{2}:[0-9]{2},[0-9]{3}', lines[i+1])\n",
    "            if time:\n",
    "                start, end = to_ms(time[0]), to_ms(time[1])\n",
    "                time_slices.append((number, (start, end)))\n",
    "\n",
    "                text = lines[i+2]\n",
    "                text = clean_text(text)\n",
    "                new_line = f\"{srt_file.strip('.srt')}-{number} {text}\"\n",
    "                transcript.append(new_line)\n",
    "                \n",
    "    return transcript, time_slices\n",
    "    \n",
    "srt_file = 'TanyaBoucicaut_WYSRTheirEyesWereWatchingGod_2021E.srt'\n",
    "srt_dir = 'data'\n",
    "transcript, time_slices = srt_to_txt(srt_file, srt_dir)\n",
    "\n",
    "\n"
   ]
  },
  {
   "cell_type": "code",
   "execution_count": 39,
   "id": "86a091aa-142d-41a8-95bb-114b00081a2d",
   "metadata": {},
   "outputs": [],
   "source": [
    "wavfile = 'data/TanyaBoucicaut_WYSRTheirEyesWereWatchingGod_2021E-600k.wav'\n",
    "wav = AudioSegment.from_wav(wavfile)\n",
    "\n",
    "for num, time_slice in time_slices:\n",
    "    wav_slice = wav[time_slice[0]:time_slice[1]]\n",
    "    wav_slice.export(f\"{wavfile.strip('.wav')}-{num}.wav\", format=\"wav\")"
   ]
  },
  {
   "cell_type": "code",
   "execution_count": null,
   "id": "48c8a67f-ea91-4fa5-912c-502878c194ae",
   "metadata": {},
   "outputs": [],
   "source": []
  },
  {
   "cell_type": "code",
   "execution_count": null,
   "id": "56b784d4-d6e1-4daa-8527-8be33e018410",
   "metadata": {},
   "outputs": [],
   "source": []
  },
  {
   "cell_type": "code",
   "execution_count": 41,
   "id": "18b959b5-5319-432a-9806-56347db40ced",
   "metadata": {},
   "outputs": [],
   "source": [
    "# write to file\n",
    "with open('your_file.txt', 'w') as f:\n",
    "    for item in transcript:\n",
    "        f.write(\"%s\\n\" % item)"
   ]
  },
  {
   "cell_type": "code",
   "execution_count": null,
   "id": "89de5614-45f0-485e-ab77-959bd771b79c",
   "metadata": {},
   "outputs": [],
   "source": []
  }
 ],
 "metadata": {
  "kernelspec": {
   "display_name": "Python 3 (ipykernel)",
   "language": "python",
   "name": "python3"
  },
  "language_info": {
   "codemirror_mode": {
    "name": "ipython",
    "version": 3
   },
   "file_extension": ".py",
   "mimetype": "text/x-python",
   "name": "python",
   "nbconvert_exporter": "python",
   "pygments_lexer": "ipython3",
   "version": "3.9.7"
  }
 },
 "nbformat": 4,
 "nbformat_minor": 5
}
