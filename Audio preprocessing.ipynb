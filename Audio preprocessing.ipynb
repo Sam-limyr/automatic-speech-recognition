{
 "cells": [
  {
   "cell_type": "code",
   "execution_count": 1,
   "id": "dcd44fc4-d676-4a6a-b674-09d68e501fb0",
   "metadata": {},
   "outputs": [],
   "source": [
    "import os\n",
    "from joblib import Parallel, delayed\n",
    "from os.path import join\n",
    "from pathlib import Path\n",
    "import re\n",
    "import subprocess\n",
    "import num2words\n",
    "import pydub\n",
    "from pydub import AudioSegment"
   ]
  },
  {
   "cell_type": "code",
   "execution_count": 2,
   "id": "8c3bf518-c5e7-41a0-987c-30e8ffcee8c6",
   "metadata": {},
   "outputs": [],
   "source": [
    "import logging\n",
    "\n",
    "# Logger setup\n",
    "logger = logging.getLogger()\n",
    "logging.basicConfig(level=\"INFO\", format=\"%(levelname)s: %(filename)s: %(message)s\")"
   ]
  },
  {
   "cell_type": "markdown",
   "id": "bbf37039-3bea-4b9e-9791-a0226fa4335b",
   "metadata": {
    "tags": []
   },
   "source": [
    "## List files"
   ]
  },
  {
   "cell_type": "markdown",
   "id": "2b24f099-b88f-4c0c-b167-096f68d4b6b7",
   "metadata": {},
   "source": [
    "``` python\n",
    "dv_set = Dataset(path, dev_split, tokenizer, 1)\n",
    "tr_set = Dataset(path, train_split, tokenizer, bucket_size, ascending=ascending)\n",
    "```"
   ]
  },
  {
   "cell_type": "markdown",
   "id": "b62a4e6f-38c6-47d7-b2d6-6c7837cc9fe1",
   "metadata": {},
   "source": [
    "``` python\n",
    "class LibriDataset(Dataset):\n",
    "    def __init__(self, path, split, tokenizer, bucket_size, ascending=False):\n",
    "        # Setup\n",
    "        self.path = path\n",
    "        self.bucket_size = bucket_size\n",
    "\n",
    "        # List all wave files\n",
    "        file_list = []\n",
    "        for s in split:\n",
    "            split_list = list(Path(join(path, s)).rglob(\"*.flac\"))\n",
    "            assert len(split_list) > 0, \"No data found @ {}\".format(join(path,s))\n",
    "            file_list += split_list\n",
    "        # Read text\n",
    "        text = Parallel(n_jobs=READ_FILE_THREADS)(\n",
    "            delayed(read_text)(str(f)) for f in file_list)\n",
    "        #text = Parallel(n_jobs=-1)(delayed(tokenizer.encode)(txt) for txt in text)\n",
    "        text = [tokenizer.encode(txt) for txt in text]\n",
    "\n",
    "        # Sort dataset by text length\n",
    "        #file_len = Parallel(n_jobs=READ_FILE_THREADS)(delayed(getsize)(f) for f in file_list)\n",
    "        self.file_list, self.text = zip(*[(f_name, txt)\n",
    "                                          for f_name, txt in sorted(zip(file_list, text), reverse=not ascending, key=lambda x:len(x[1]))])\n",
    "\n",
    "    def __getitem__(self, index):\n",
    "        if self.bucket_size > 1:\n",
    "            # Return a bucket\n",
    "            index = min(len(self.file_list)-self.bucket_size, index)\n",
    "            return [(f_path, txt) for f_path, txt in\n",
    "                    zip(self.file_list[index:index+self.bucket_size], self.text[index:index+self.bucket_size])]\n",
    "        else:\n",
    "            return self.file_list[index], self.text[index]\n",
    "\n",
    "    def __len__(self):\n",
    "        return len(self.file_list)\n",
    "```"
   ]
  },
  {
   "cell_type": "markdown",
   "id": "d3abdcb7-2eb7-41de-838d-384fa805851c",
   "metadata": {},
   "source": [
    "```\n",
    "file data/LibriSpeech/dev-clean/1272/128104/1272-128104-0000.flac\n",
    "src_file data/LibriSpeech/dev-clean/1272/128104/1272-128104.trans.txt\n",
    "idx 1272-128104-0000\n",
    "MISTER QUILTER IS THE APOSTLE OF THE MIDDLE CLASSES AND WE ARE GLAD TO WELCOME HIS GOSPEL\n",
    "```"
   ]
  },
  {
   "cell_type": "markdown",
   "id": "196513ee-5b90-4843-b754-2f256047bae9",
   "metadata": {
    "tags": []
   },
   "source": [
    "## Ted Srt"
   ]
  },
  {
   "cell_type": "markdown",
   "id": "7d37ce97-f10b-4d8f-9ef4-39b78a99b340",
   "metadata": {},
   "source": [
    "### from scraper/data to data/TedSrt"
   ]
  },
  {
   "cell_type": "code",
   "execution_count": 3,
   "id": "589ecfca-1d63-4a42-a626-3457cb97250e",
   "metadata": {},
   "outputs": [],
   "source": [
    "AUDIO_EXTENSION = 'mp3'\n",
    "READ_FILE_THREADS = 1\n",
    "path = 'data/TedSrt'\n",
    "split = 'train'\n",
    "\n",
    "src_path = 'scraper/data'"
   ]
  },
  {
   "cell_type": "code",
   "execution_count": 4,
   "id": "a3919a99-ef63-4356-8d03-6213b96b3cf8",
   "metadata": {
    "tags": []
   },
   "outputs": [],
   "source": [
    "def clean_text(text):\n",
    "    '''\n",
    "    Text processing to clean text before saving as label\n",
    "    to lowercase, convert years to words, convert digits to words, remove symbols\n",
    "    '''\n",
    "    text = text.lower().strip('\\n')\n",
    "    text = re.sub(r'[^\\w\\s]', ' ', text)\n",
    "    text = ' '.join([num2words.num2words(i, to='year') if (i.isdigit() & (len(i) == 4)) else i for i in text.split()]) # year to words\n",
    "    text = ' '.join([num2words.num2words(i) if i.isdigit() else i for i in text.split()]) # num to words\n",
    "    text = re.sub(' +', ' ', text) # remove redundant spaces\n",
    "    text = text.replace('-', ' ')\n",
    "    return text\n",
    "\n",
    "def to_ms(string):\n",
    "    '''\n",
    "    Convert string '00:00:00,000' to milliseconds\n",
    "    to be used for audio slicing\n",
    "    '''\n",
    "    string = string.replace(',','')\n",
    "    hour, minute, second = string.split(':')\n",
    "    second = int(second)\n",
    "    second += int(hour) * 3600 * 1000\n",
    "    second += int(minute) * 60 * 1000\n",
    "    second = second\n",
    "    return second\n",
    "\n",
    "def txt_to_trans(txt_file, file_name, text_processing=clean_text):\n",
    "    '''\n",
    "    Convert txt file to transcript format ready to be read into Dataset\n",
    "    lines formatted as 'filename-idx text_label'\n",
    "    return lines and time_slices\n",
    "    '''\n",
    "    file = open(txt_file, 'r')\n",
    "    lines = file.readlines()\n",
    "    file.close()\n",
    "    \n",
    "    transcript = []\n",
    "    time_slices = []\n",
    "\n",
    "    for i in range(len(lines)):\n",
    "        idx = re.search('^[\\d]+$', lines[i].strip('\\ufeff'))\n",
    "        if idx:\n",
    "            idx = idx[0]\n",
    "            time_frame = re.findall('[0-9]{2}:[0-9]{2}:[0-9]{2},[0-9]{3}', lines[i+1])\n",
    "            if time_frame:\n",
    "                start, end = to_ms(time_frame[0]), to_ms(time_frame[1])\n",
    "                time_slices.append((idx, (start, end)))\n",
    "\n",
    "                text = lines[i+2]\n",
    "                text = text_processing(text)\n",
    "                new_line = f\"{file_name}-{idx} {text}\"\n",
    "                transcript.append(new_line)\n",
    "                \n",
    "    return transcript, time_slices\n",
    "\n",
    "def save_trans(transcript, output_path):\n",
    "    '''\n",
    "    save trans to output_path\n",
    "    '''\n",
    "    if not os.path.exists(os.path.dirname(output_path)):\n",
    "        os.makedirs(os.path.dirname(output_path))\n",
    "\n",
    "        with open(output_path, 'w+') as f:\n",
    "            for line in transcript:\n",
    "                f.write(f\"{line}\\n\")\n",
    "            f.close()\n"
   ]
  },
  {
   "cell_type": "code",
   "execution_count": 17,
   "id": "15c3fcab-be6f-4fc2-bdd9-9727806c80b2",
   "metadata": {},
   "outputs": [
    {
     "name": "stderr",
     "output_type": "stream",
     "text": [
      "INFO: 2139371195.py: 0. Creating transcript for carol_farbotko_and_ingrid_boas_where_will_you_be_able_to_live_in_20_years...\n",
      "INFO: 2139371195.py: 0. Slicing audio for carol_farbotko_and_ingrid_boas_where_will_you_be_able_to_live_in_20_years...\n",
      "INFO: 2139371195.py: 1. Creating transcript for chris_bennett_a_close_to_home_solution_for_accessible_childcare...\n",
      "INFO: 2139371195.py: 1. Slicing audio for chris_bennett_a_close_to_home_solution_for_accessible_childcare...\n"
     ]
    },
    {
     "name": "stdout",
     "output_type": "stream",
     "text": [
      "287.79\n",
      "284.329\n",
      "3.4610000000000127\n",
      "\n"
     ]
    },
    {
     "name": "stderr",
     "output_type": "stream",
     "text": [
      "INFO: 2139371195.py: 2. Creating transcript for dan_kwartler_why_don_t_we_cover_the_desert_with_solar_panels...\n",
      "INFO: 2139371195.py: 2. Slicing audio for dan_kwartler_why_don_t_we_cover_the_desert_with_solar_panels...\n"
     ]
    },
    {
     "name": "stdout",
     "output_type": "stream",
     "text": [
      "542.28\n",
      "529.079\n",
      "13.201000000000022\n",
      "\n"
     ]
    },
    {
     "name": "stderr",
     "output_type": "stream",
     "text": [
      "INFO: 2139371195.py: 3. Creating transcript for devin_shuman_the_genes_you_don_t_get_from_your_parents_but_can_t_live_without...\n",
      "INFO: 2139371195.py: 3. Slicing audio for devin_shuman_the_genes_you_don_t_get_from_your_parents_but_can_t_live_without...\n"
     ]
    },
    {
     "name": "stdout",
     "output_type": "stream",
     "text": [
      "306.88\n",
      "303.413\n",
      "3.4669999999999845\n",
      "\n"
     ]
    },
    {
     "name": "stderr",
     "output_type": "stream",
     "text": [
      "INFO: 2139371195.py: 4. Creating transcript for geoff_emberling_what_happened_to_the_lost_kingdom_of_kush...\n",
      "INFO: 2139371195.py: 4. Slicing audio for geoff_emberling_what_happened_to_the_lost_kingdom_of_kush...\n"
     ]
    },
    {
     "name": "stdout",
     "output_type": "stream",
     "text": [
      "286.63\n",
      "282.204\n",
      "4.425999999999988\n",
      "\n"
     ]
    },
    {
     "name": "stderr",
     "output_type": "stream",
     "text": [
      "INFO: 2139371195.py: 5. Creating transcript for helen_farr_and_jon_adams_why_is_this_2_500_year_old_shipwreck_so_well_preserved...\n",
      "INFO: 2139371195.py: 5. Slicing audio for helen_farr_and_jon_adams_why_is_this_2_500_year_old_shipwreck_so_well_preserved...\n"
     ]
    },
    {
     "name": "stdout",
     "output_type": "stream",
     "text": [
      "259.38\n",
      "257.913\n",
      "1.4669999999999845\n",
      "\n"
     ]
    },
    {
     "name": "stderr",
     "output_type": "stream",
     "text": [
      "INFO: 2139371195.py: 6. Creating transcript for isha_datar_how_we_could_eat_real_meat_without_harming_animals...\n",
      "INFO: 2139371195.py: 6. Slicing audio for isha_datar_how_we_could_eat_real_meat_without_harming_animals...\n"
     ]
    },
    {
     "name": "stdout",
     "output_type": "stream",
     "text": [
      "268.21\n",
      "264.579\n",
      "3.630999999999972\n",
      "\n"
     ]
    },
    {
     "name": "stderr",
     "output_type": "stream",
     "text": [
      "INFO: 2139371195.py: 7. Creating transcript for james_tanton_can_you_solve_the_risky_disk_riddle...\n",
      "INFO: 2139371195.py: 7. Slicing audio for james_tanton_can_you_solve_the_risky_disk_riddle...\n"
     ]
    },
    {
     "name": "stdout",
     "output_type": "stream",
     "text": [
      "760.64\n",
      "743.947\n",
      "16.692999999999984\n",
      "\n"
     ]
    },
    {
     "name": "stderr",
     "output_type": "stream",
     "text": [
      "INFO: 2139371195.py: 8. Creating transcript for melati_wijsen_a_roadmap_for_young_changemakers...\n",
      "INFO: 2139371195.py: 8. Slicing audio for melati_wijsen_a_roadmap_for_young_changemakers...\n"
     ]
    },
    {
     "name": "stdout",
     "output_type": "stream",
     "text": [
      "315.04\n",
      "314.163\n",
      "0.8770000000000095\n",
      "\n"
     ]
    },
    {
     "name": "stderr",
     "output_type": "stream",
     "text": [
      "INFO: 2139371195.py: 9. Creating transcript for monica_araya_the_billion_dollar_campaign_to_electrify_transport...\n",
      "INFO: 2139371195.py: 9. Slicing audio for monica_araya_the_billion_dollar_campaign_to_electrify_transport...\n"
     ]
    },
    {
     "name": "stdout",
     "output_type": "stream",
     "text": [
      "482.4\n",
      "467.876\n",
      "14.524000000000001\n",
      "\n"
     ]
    },
    {
     "name": "stderr",
     "output_type": "stream",
     "text": [
      "INFO: 2139371195.py: 10. Creating transcript for tanya_boucicaut_can_love_and_independence_coexist...\n",
      "INFO: 2139371195.py: 10. Slicing audio for tanya_boucicaut_can_love_and_independence_coexist...\n"
     ]
    },
    {
     "name": "stdout",
     "output_type": "stream",
     "text": [
      "690.16\n",
      "676.796\n",
      "13.363999999999919\n",
      "\n"
     ]
    },
    {
     "name": "stderr",
     "output_type": "stream",
     "text": [
      "INFO: 2139371195.py: 11. Creating transcript for tzeporah_berman_the_global_treaty_to_phase_out_fossil_fuels...\n",
      "INFO: 2139371195.py: 11. Slicing audio for tzeporah_berman_the_global_treaty_to_phase_out_fossil_fuels...\n"
     ]
    },
    {
     "name": "stdout",
     "output_type": "stream",
     "text": [
      "272.08\n",
      "271.288\n",
      "0.7919999999999732\n",
      "\n",
      "814.2\n",
      "800.916\n",
      "13.283999999999992\n",
      "\n"
     ]
    }
   ],
   "source": [
    "folder_list = os.listdir(src_path)\n",
    "for idx, curr_folder in enumerate(folder_list):\n",
    "    file_name = str(idx) #save the transcript as num, can be changed to folder name\n",
    "    output_path = join(path, split, file_name)\n",
    "    txt_output_path = join(output_path, file_name + '.trans.txt')\n",
    "    \n",
    "    logging.info(f\"{idx}. Creating transcript for {curr_folder}...\")\n",
    "    txt_path = list(Path(join(src_path, curr_folder)).rglob('*.txt'))[0]\n",
    "    transcript, time_slices = txt_to_trans(txt_path, file_name)\n",
    "    # save_trans(transcript, txt_output_path)\n",
    "    \n",
    "    logging.info(f\"{idx}. Slicing audio for {curr_folder}...\")\n",
    "    audio_path = list(Path(join(src_path, curr_folder)).rglob('*.' + AUDIO_EXTENSION))[0]\n",
    "    audio_file = AudioSegment.from_file(audio_path, AUDIO_EXTENSION)\n",
    "    \n",
    "    audio_duration = audio_file.duration_seconds\n",
    "    audio_srt_duration = time_slices[-1][-1][-1] / 1000\n",
    "    duration_diff = audio_duration - audio_srt_duration\n",
    "    \n",
    "    if duration_diff > 7:\n",
    "        logging.warning('Watch out!')\n",
    "        \n",
    "    print(audio_duration)\n",
    "    print(audio_srt_duration)\n",
    "    print(duration_diff)\n",
    "    # print(time_slices)\n",
    "    print()\n",
    "    # for idx, time_slice in time_slices:\n",
    "    #     audio_slice = audio_file[time_slice[0]:time_slice[1]]\n",
    "    #     audio_output_path = join(output_path, f\"{file_name}-{idx}.{AUDIO_EXTENSION}\")\n",
    "        # audio_slice.export(audio_output_path, format=AUDIO_EXTENSION)"
   ]
  },
  {
   "cell_type": "code",
   "execution_count": null,
   "id": "88bf9b8e-49ae-4f18-a8dc-8edd491d7f37",
   "metadata": {},
   "outputs": [],
   "source": []
  },
  {
   "cell_type": "code",
   "execution_count": null,
   "id": "50f98e2d-4e23-4c2c-8312-9fdfe4febfcd",
   "metadata": {},
   "outputs": [],
   "source": []
  },
  {
   "cell_type": "code",
   "execution_count": null,
   "id": "204fdec7-644d-41a8-a811-16d00068775b",
   "metadata": {},
   "outputs": [],
   "source": []
  },
  {
   "cell_type": "code",
   "execution_count": null,
   "id": "8dab9ee5-c698-4c57-86b7-ab7509b5da0e",
   "metadata": {},
   "outputs": [],
   "source": []
  },
  {
   "cell_type": "code",
   "execution_count": null,
   "id": "7ccb033e-a8a7-488b-9022-0031b4826914",
   "metadata": {},
   "outputs": [],
   "source": []
  },
  {
   "cell_type": "code",
   "execution_count": null,
   "id": "17aac659-b243-406d-924b-152c5bc12c56",
   "metadata": {},
   "outputs": [],
   "source": [
    "assert False, \"breakpoint\""
   ]
  },
  {
   "cell_type": "code",
   "execution_count": null,
   "id": "34aac4d6-74d0-47da-a8ec-46bc39588e53",
   "metadata": {},
   "outputs": [],
   "source": [
    "audio_file = AudioSegment.from_file('data/audio.mp3', AUDIO_EXTENSION)"
   ]
  },
  {
   "cell_type": "code",
   "execution_count": 9,
   "id": "a4d08f53-3493-4b66-baea-13ae265f6651",
   "metadata": {},
   "outputs": [
    {
     "data": {
      "text/plain": [
       "814.2"
      ]
     },
     "execution_count": 9,
     "metadata": {},
     "output_type": "execute_result"
    }
   ],
   "source": [
    "audio_file.duration_seconds"
   ]
  },
  {
   "cell_type": "code",
   "execution_count": null,
   "id": "964dcebc-9611-43a1-b60b-c53e3020be23",
   "metadata": {},
   "outputs": [],
   "source": []
  },
  {
   "cell_type": "code",
   "execution_count": null,
   "id": "62ba4b58-442e-48e9-afa2-6e030d4f0eb5",
   "metadata": {},
   "outputs": [],
   "source": []
  },
  {
   "cell_type": "markdown",
   "id": "6d5fc3d5-3ae2-4d19-a3eb-52a849a6a8e4",
   "metadata": {
    "tags": []
   },
   "source": [
    "## Video to wav"
   ]
  },
  {
   "cell_type": "code",
   "execution_count": null,
   "id": "6ab08ba2-2cc9-4d63-8c30-3a12a6585cbb",
   "metadata": {},
   "outputs": [],
   "source": [
    "def video_to_wav(video_file, output_dir=''):\n",
    "    \"\"\" calls ffmpeg to convert *.mp4 to *.wav if wav not exists\n",
    "    \"\"\"\n",
    "    # check if wav file exists\n",
    "    wav_file = video_file.replace('.mp4', '.wav')\n",
    "    wav_file = os.path.join(output_dir, wav_file)\n",
    "\n",
    "    if not os.path.isfile(wav_file):\n",
    "        command = f'ffmpeg -i {video_file} -ac 1 -ar 20000 -vn {wav_file} -hide_banner -loglevel error' # -ab audio bitrate -ac audio channels -ar audio sampling rate -vn disable video\n",
    "        subprocess.call(command, shell=True)\n",
    "    \n",
    "def dir_to_wav(video_dir):\n",
    "    \"\"\" convert *.mp4 in directory to *.wav\n",
    "    \"\"\"\n",
    "    for file in os.listdir(video_dir):\n",
    "        if file.endswith('.mp4'):\n",
    "            video_to_wav(file)\n",
    "            \n",
    "video_dir = '.'\n",
    "dir_to_wav(video_dir)"
   ]
  },
  {
   "cell_type": "markdown",
   "id": "f8512574-b82a-4af4-a49d-13e781a16298",
   "metadata": {},
   "source": [
    "## SRT"
   ]
  },
  {
   "cell_type": "code",
   "execution_count": null,
   "id": "8076a9c9-4e8f-4378-ab90-8546f9b02b23",
   "metadata": {},
   "outputs": [],
   "source": [
    "def clean_text(text):\n",
    "    text = text.lower().strip('\\n')\n",
    "    text = re.sub(r'[^\\w\\s]', ' ', text)\n",
    "    text = ' '.join([num2words.num2words(i, to='year') if (i.isdigit() & (len(i) == 4)) else i for i in text.split()]) # year to words\n",
    "    text = ' '.join([num2words.num2words(i) if i.isdigit() else i for i in text.split()]) # num to words\n",
    "    text = re.sub(' +', ' ', text) # remove redundant spaces\n",
    "    text = text.replace('-', ' ')\n",
    "    return text\n",
    "\n",
    "def to_ms(string):\n",
    "    string = string.replace(',','')\n",
    "    hour, minute, second = string.split(':')\n",
    "    second = int(second)\n",
    "    second += int(hour) * 3600 * 1000\n",
    "    second += int(minute) * 60 * 1000\n",
    "    second = second\n",
    "    # print(hour, minute, second)\n",
    "    return second"
   ]
  },
  {
   "cell_type": "code",
   "execution_count": null,
   "id": "5d450f68-231a-4bd7-bb58-f4486455c796",
   "metadata": {},
   "outputs": [],
   "source": [
    "def srt_to_txt(srt_file, srt_dir=''):\n",
    "    filepath = os.path.join(srt_dir, srt_file)\n",
    "    file = open(filepath, 'r')\n",
    "    lines = file.readlines()\n",
    "    file.close()\n",
    "    \n",
    "    transcript = []\n",
    "    time_slices = []\n",
    "\n",
    "    for i in range(len(lines)):\n",
    "        number = re.search('^[\\d]+$', lines[i].strip('\\ufeff'))\n",
    "        if number:\n",
    "            number = number[0]\n",
    "            time = re.findall('[0-9]{2}:[0-9]{2}:[0-9]{2},[0-9]{3}', lines[i+1])\n",
    "            if time:\n",
    "                start, end = to_ms(time[0]), to_ms(time[1])\n",
    "                time_slices.append((number, (start, end)))\n",
    "\n",
    "                text = lines[i+2]\n",
    "                text = clean_text(text)\n",
    "                new_line = f\"{srt_file.strip('.srt')}-{number} {text}\"\n",
    "                transcript.append(new_line)\n",
    "                \n",
    "    return transcript, time_slices\n",
    "    \n",
    "srt_file = 'TanyaBoucicaut_WYSRTheirEyesWereWatchingGod_2021E.srt'\n",
    "srt_dir = 'data'\n",
    "transcript, time_slices = srt_to_txt(srt_file, srt_dir)\n",
    "\n",
    "\n"
   ]
  },
  {
   "cell_type": "code",
   "execution_count": null,
   "id": "86a091aa-142d-41a8-95bb-114b00081a2d",
   "metadata": {},
   "outputs": [],
   "source": [
    "wavfile = 'data/TanyaBoucicaut_WYSRTheirEyesWereWatchingGod_2021E-600k.wav'\n",
    "wav = AudioSegment.from_wav(wavfile)\n",
    "\n",
    "for num, time_slice in time_slices:\n",
    "    wav_slice = wav[time_slice[0]:time_slice[1]]\n",
    "    wav_slice.export(f\"{wavfile.strip('.wav')}-{num}.wav\", format=\"wav\")"
   ]
  },
  {
   "cell_type": "code",
   "execution_count": null,
   "id": "56b784d4-d6e1-4daa-8527-8be33e018410",
   "metadata": {},
   "outputs": [],
   "source": [
    "mp4_version = AudioSegment.from_file(\"data/audio.mp3\", \"mp3\")"
   ]
  },
  {
   "cell_type": "code",
   "execution_count": null,
   "id": "18b959b5-5319-432a-9806-56347db40ced",
   "metadata": {},
   "outputs": [],
   "source": [
    "# write to file\n",
    "with open('your_file.txt', 'w') as f:\n",
    "    for item in transcript:\n",
    "        f.write(\"%s\\n\" % item)"
   ]
  },
  {
   "cell_type": "code",
   "execution_count": null,
   "id": "89de5614-45f0-485e-ab77-959bd771b79c",
   "metadata": {},
   "outputs": [],
   "source": []
  }
 ],
 "metadata": {
  "kernelspec": {
   "display_name": "Python 3 (ipykernel)",
   "language": "python",
   "name": "python3"
  },
  "language_info": {
   "codemirror_mode": {
    "name": "ipython",
    "version": 3
   },
   "file_extension": ".py",
   "mimetype": "text/x-python",
   "name": "python",
   "nbconvert_exporter": "python",
   "pygments_lexer": "ipython3",
   "version": "3.9.7"
  }
 },
 "nbformat": 4,
 "nbformat_minor": 5
}
